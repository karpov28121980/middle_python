{
 "cells": [
  {
   "cell_type": "code",
   "execution_count": 7,
   "id": "ab1d5b82",
   "metadata": {},
   "outputs": [],
   "source": [
    "import sqlite3\n",
    "from zipfile import ZipFile\n",
    "import pandas as pd\n",
    "import json\n",
    "import time"
   ]
  },
  {
   "cell_type": "code",
   "execution_count": 3,
   "id": "8e3c02a7",
   "metadata": {},
   "outputs": [],
   "source": [
    "#Создаем базу данных\n",
    "conn = sqlite3.connect('hw1.db')"
   ]
  },
  {
   "cell_type": "code",
   "execution_count": 4,
   "id": "cc7d32b7",
   "metadata": {},
   "outputs": [],
   "source": [
    "cur = conn.cursor()"
   ]
  },
  {
   "cell_type": "code",
   "execution_count": 5,
   "id": "23c896ea",
   "metadata": {},
   "outputs": [
    {
     "data": {
      "text/plain": [
       "<sqlite3.Cursor at 0x2653bd05fc0>"
      ]
     },
     "execution_count": 5,
     "metadata": {},
     "output_type": "execute_result"
    }
   ],
   "source": [
    "#создаем пустую таблицу для справочника оквед\n",
    "cur.execute(\"CREATE TABLE okved (code text, parent_code text, section text, name text, comment text);\")\n"
   ]
  },
  {
   "cell_type": "code",
   "execution_count": 15,
   "id": "976b5129",
   "metadata": {},
   "outputs": [
    {
     "data": {
      "text/plain": [
       "<sqlite3.Cursor at 0x2653bd05fc0>"
      ]
     },
     "execution_count": 15,
     "metadata": {},
     "output_type": "execute_result"
    }
   ],
   "source": [
    "#создаем пустую таблицу для данных по юр. лицам\n",
    "cur.execute(\"CREATE TABLE egrul (ogrn text, inn text, kpp text, name text, КодОКВЭД text);\")"
   ]
  },
  {
   "cell_type": "code",
   "execution_count": 6,
   "id": "78b2fd3c",
   "metadata": {},
   "outputs": [],
   "source": [
    "# Достаем из архива справочник и загружаем в sql\n",
    "with ZipFile(\"C:/Users/vitaliy.y.karpov/Desktop/Продвинутый python/ДЗ1/okved_2.json.zip\", \"r\") as zf:\n",
    "        for file in zf.infolist():\n",
    "            okved_2 = zf.read(file)\n",
    "            okved_2 = okved_2.decode('utf-8')\n",
    "            text = json.loads(json.dumps(okved_2))\n",
    "            okved = pd.read_json(text, dtype=str)\n",
    "            okved.to_sql('okved', conn, if_exists='append', index = bool)\n"
   ]
  },
  {
   "cell_type": "code",
   "execution_count": 16,
   "id": "539f226f",
   "metadata": {},
   "outputs": [
    {
     "name": "stdout",
     "output_type": "stream",
     "text": [
      "Вычисление заняло 7679.8304 секунд\n"
     ]
    },
    {
     "data": {
      "text/html": [
       "<div>\n",
       "<style scoped>\n",
       "    .dataframe tbody tr th:only-of-type {\n",
       "        vertical-align: middle;\n",
       "    }\n",
       "\n",
       "    .dataframe tbody tr th {\n",
       "        vertical-align: top;\n",
       "    }\n",
       "\n",
       "    .dataframe thead th {\n",
       "        text-align: right;\n",
       "    }\n",
       "</style>\n",
       "<table border=\"1\" class=\"dataframe\">\n",
       "  <thead>\n",
       "    <tr style=\"text-align: right;\">\n",
       "      <th></th>\n",
       "      <th>ogrn</th>\n",
       "      <th>inn</th>\n",
       "      <th>kpp</th>\n",
       "      <th>name</th>\n",
       "      <th>КодОКВЭД</th>\n",
       "    </tr>\n",
       "  </thead>\n",
       "  <tbody>\n",
       "    <tr>\n",
       "      <th>722</th>\n",
       "      <td>1037861007799</td>\n",
       "      <td>7838003370</td>\n",
       "      <td>470501001</td>\n",
       "      <td>ООО \"РЭЙС СЕВЕРО-ЗАПАД\"</td>\n",
       "      <td>61.10.1</td>\n",
       "    </tr>\n",
       "  </tbody>\n",
       "</table>\n",
       "</div>"
      ],
      "text/plain": [
       "              ogrn         inn        kpp                     name КодОКВЭД\n",
       "722  1037861007799  7838003370  470501001  ООО \"РЭЙС СЕВЕРО-ЗАПАД\"  61.10.1"
      ]
     },
     "execution_count": 16,
     "metadata": {},
     "output_type": "execute_result"
    }
   ],
   "source": [
    "tic = time.perf_counter()\n",
    "#распаковываем архив с данными по юр. лицам\n",
    "with ZipFile(\"C:/Users/vitaliy.y.karpov/Desktop/Продвинутый python/ДЗ1/egrul.json.zip\", \"r\") as zf:\n",
    "    file_names = zf.namelist()\n",
    "    for name in file_names:\n",
    "        data = json.loads(zf.read(name).decode())\n",
    "        extracted = pd.json_normalize(data)\n",
    "        #делаем проверку на наличие столбцов\n",
    "        try:\n",
    "            extracted = extracted[['ogrn','inn','kpp','name','data.СвОКВЭД.СвОКВЭДОсн.КодОКВЭД']]\n",
    "        except KeyError:\n",
    "            continue\n",
    "        extracted.rename(columns = {'data.СвОКВЭД.СвОКВЭДОсн.КодОКВЭД':'КодОКВЭД'}, inplace = True)\n",
    "        extracted = extracted.dropna()\n",
    "        #создаем отфильтрованную таблицу для загрузки в бд\n",
    "        egrul = extracted[extracted.КодОКВЭД.str.startswith('61')]\n",
    "        egrul.to_sql('egrul', conn, if_exists='append', index = bool)\n",
    "        \n",
    "toc = time.perf_counter()\n",
    "print(f\"Вычисление заняло {toc - tic:0.4f} секунд\")   \n",
    "\n",
    "#время на отработку скрипта ушло 2 часа 13 мин.\n",
    "#Загружено 20917 строк"
   ]
  },
  {
   "cell_type": "code",
   "execution_count": 17,
   "id": "72a02a24",
   "metadata": {},
   "outputs": [],
   "source": [
    "conn.close()"
   ]
  },
  {
   "cell_type": "code",
   "execution_count": null,
   "id": "da22e88e",
   "metadata": {},
   "outputs": [],
   "source": []
  }
 ],
 "metadata": {
  "kernelspec": {
   "display_name": "Python 3 (ipykernel)",
   "language": "python",
   "name": "python3"
  },
  "language_info": {
   "codemirror_mode": {
    "name": "ipython",
    "version": 3
   },
   "file_extension": ".py",
   "mimetype": "text/x-python",
   "name": "python",
   "nbconvert_exporter": "python",
   "pygments_lexer": "ipython3",
   "version": "3.10.9"
  }
 },
 "nbformat": 4,
 "nbformat_minor": 5
}
