{
 "cells": [
  {
   "cell_type": "code",
   "execution_count": 7,
   "id": "ab1d5b82",
   "metadata": {},
   "outputs": [],
   "source": [
    "import sqlite3\n",
    "from zipfile import ZipFile\n",
    "import pandas as pd\n",
    "import json\n",
    "import time"
   ]
  },
  {
   "cell_type": "code",
   "execution_count": 3,
   "id": "78747375",
   "metadata": {},
   "outputs": [],
   "source": [
    "conn = sqlite3.connect('hw1.db')"
   ]
  },
  {
   "cell_type": "code",
   "execution_count": 4,
   "id": "04be1e5c",
   "metadata": {},
   "outputs": [],
   "source": [
    "cur = conn.cursor()"
   ]
  },
  {
   "cell_type": "code",
   "execution_count": 5,
   "id": "9cdf6286",
   "metadata": {},
   "outputs": [
    {
     "data": {
      "text/plain": [
       "<sqlite3.Cursor at 0x2653bd05fc0>"
      ]
     },
     "execution_count": 5,
     "metadata": {},
     "output_type": "execute_result"
    }
   ],
   "source": [
    "cur.execute(\"CREATE TABLE okved (code text, parent_code text, section text, name text, comment text);\")\n"
   ]
  },
  {
   "cell_type": "code",
   "execution_count": 15,
   "id": "fb8aea1a",
   "metadata": {},
   "outputs": [
    {
     "data": {
      "text/plain": [
       "<sqlite3.Cursor at 0x2653bd05fc0>"
      ]
     },
     "execution_count": 15,
     "metadata": {},
     "output_type": "execute_result"
    }
   ],
   "source": [
    "cur.execute(\"CREATE TABLE egrul (ogrn text, inn text, kpp text, name text, КодОКВЭД text);\")"
   ]
  },
  {
   "cell_type": "code",
   "execution_count": 6,
   "id": "6cb8502d",
   "metadata": {},
   "outputs": [],
   "source": [
    "with ZipFile(\"C:/Users/vitaliy.y.karpov/Desktop/Продвинутый python/ДЗ1/okved_2.json.zip\", \"r\") as zf:\n",
    "        for file in zf.infolist():\n",
    "            okved_2 = zf.read(file)\n",
    "            okved_2 = okved_2.decode('utf-8')\n",
    "            text = json.loads(json.dumps(okved_2))\n",
    "            okved = pd.read_json(text, dtype=str)\n",
    "            okved.to_sql('okved', conn, if_exists='append', index = bool)\n"
   ]
  },
  {
   "cell_type": "code",
   "execution_count": null,
   "id": "539f226f",
   "metadata": {},
   "outputs": [],
   "source": [
    "tic = time.perf_counter()\n",
    "\n",
    "with ZipFile(\"C:/Users/vitaliy.y.karpov/Desktop/Продвинутый python/ДЗ1/egrul.json.zip\", \"r\") as zf:\n",
    "    file_names = zf.namelist()\n",
    "    for name in file_names:\n",
    "        data = json.loads(zf.read(name).decode())\n",
    "        extracted = pd.json_normalize(data)\n",
    "        try:\n",
    "            extracted = extracted[['ogrn','inn','kpp','name','data.СвОКВЭД.СвОКВЭДОсн.КодОКВЭД']]\n",
    "        except KeyError:\n",
    "            continue\n",
    "        extracted.rename(columns = {'data.СвОКВЭД.СвОКВЭДОсн.КодОКВЭД':'КодОКВЭД'}, inplace = True)\n",
    "        extracted = extracted.dropna()\n",
    "        egrul = extracted[extracted.КодОКВЭД.str.startswith('61')]\n",
    "        egrul.to_sql('egrul', conn, if_exists='append', index = bool)\n",
    "        \n",
    "toc = time.perf_counter()\n",
    "print(f\"Вычисление заняло {toc - tic:0.4f} секунд\")   \n",
    "egrul.head(100)"
   ]
  },
  {
   "cell_type": "code",
   "execution_count": 14,
   "id": "7816061b",
   "metadata": {},
   "outputs": [
    {
     "data": {
      "text/plain": [
       "<sqlite3.Cursor at 0x2653bd05fc0>"
      ]
     },
     "execution_count": 14,
     "metadata": {},
     "output_type": "execute_result"
    }
   ],
   "source": [
    "cur.execute('DROP table egrul')"
   ]
  },
  {
   "cell_type": "code",
   "execution_count": null,
   "id": "e382ffe6",
   "metadata": {},
   "outputs": [],
   "source": []
  }
 ],
 "metadata": {
  "kernelspec": {
   "display_name": "Python 3 (ipykernel)",
   "language": "python",
   "name": "python3"
  },
  "language_info": {
   "codemirror_mode": {
    "name": "ipython",
    "version": 3
   },
   "file_extension": ".py",
   "mimetype": "text/x-python",
   "name": "python",
   "nbconvert_exporter": "python",
   "pygments_lexer": "ipython3",
   "version": "3.10.9"
  }
 },
 "nbformat": 4,
 "nbformat_minor": 5
}
