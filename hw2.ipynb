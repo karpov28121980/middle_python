{
 "cells": [
  {
   "cell_type": "code",
   "execution_count": 29,
   "id": "6f541bd5",
   "metadata": {},
   "outputs": [],
   "source": [
    "import requests\n",
    "from bs4 import BeautifulSoup as bs\n",
    "import sqlite3\n",
    "import json\n",
    "import pandas as pd"
   ]
  },
  {
   "cell_type": "code",
   "execution_count": 30,
   "id": "4fa8b954",
   "metadata": {},
   "outputs": [],
   "source": [
    "url1 = \"https://hh.ru/search/vacancy?text=middle+python+developer&area=113&items_on_page=100&search_field=name\"\n",
    "url2 = \"https://api.hh.ru/vacancies?text=middle+python+developer&area=113&per_page=100&search_field=name\" \n",
    "headers = {'User-agent': 'Mozilla/5.0'}\n"
   ]
  },
  {
   "cell_type": "code",
   "execution_count": 31,
   "id": "eeb661e6",
   "metadata": {},
   "outputs": [
    {
     "name": "stdout",
     "output_type": "stream",
     "text": [
      "Таблица загружена\n",
      "Соединение закрыто\n"
     ]
    }
   ],
   "source": [
    "#загрузка данные по вакансиям из web\n",
    "\n",
    "    search_result = requests.get(url1, headers=headers)\n",
    "    if search_result.status_code == 200:\n",
    "        soup = bs(search_result.content, 'lxml')\n",
    "        list_ = []\n",
    "        result = soup.find('template').text\n",
    "        links = json.loads(result)\n",
    "        for link in links['vacancySearchResult']['vacancies']:   \n",
    "            vacancy = requests.get(link['links']['desktop'], headers=headers)\n",
    "            if vacancy.status_code == 200:\n",
    "                content = bs(vacancy.content, 'lxml')\n",
    "                description = ''\n",
    "                vd = content.find('div', attrs={'data-qa': 'vacancy-description'})\n",
    "                if vd is not None:\n",
    "                    description = vd.get_text()\n",
    "                key_skills_containers = content.find_all('span', attrs={'data-qa': 'bloko-tag__text'})\n",
    "                key_skills =[]\n",
    "                for skill in key_skills_containers:\n",
    "                    key_skills.append(skill.text)\n",
    "                key = ', '.join(key_skills)\n",
    "                try:\n",
    "                    company = link['company']['name']\n",
    "                    list_.append([company, link['name'], description, key])\n",
    "                except KeyError:\n",
    "                    #continue\n",
    "                    company  = 'no'\n",
    "                    list_.append([company, link['name'], description, key])\n",
    "    else:\n",
    "        print(f'Не удалось подключиться: {search_result.status_code}')\n",
    "\n",
    "\n",
    "    try:\n",
    "        conn = sqlite3.connect('hw1.db')\n",
    "        cur = conn.cursor()\n",
    "        cur.execute(\"CREATE TABLE web (company text, name text, description text, key_skills text);\")\n",
    "        cur.executemany(\"INSERT INTO web VALUES(?, ?, ?, ?);\", list_)\n",
    "        conn.commit()\n",
    "        print('Таблица загружена')\n",
    "    except sql.Error as error:\n",
    "        print(f\"Не удалось вставить данные в таблицу\")\n",
    "        print(\"Исключение: \", error.__class__, error.args)    \n",
    "    \n",
    "    conn.close()\n",
    "    print(\"Соединение закрыто\")"
   ]
  },
  {
   "cell_type": "code",
   "execution_count": 32,
   "id": "f100edf3",
   "metadata": {},
   "outputs": [
    {
     "name": "stdout",
     "output_type": "stream",
     "text": [
      "Таблица загружена\n",
      "Соединение закрыто\n"
     ]
    }
   ],
   "source": [
    "#Загрузка через API\n",
    "\n",
    "result = requests.get(url2)\n",
    "if result.status_code == 200:\n",
    "    vacancies = result.json().get('items')\n",
    "    df = []\n",
    "    for i, vacancy in enumerate(vacancies):\n",
    "        url = vacancy['url']\n",
    "        result = requests.get(url)\n",
    "        vacancy = result.json()\n",
    "        key = []\n",
    "        description = ''\n",
    "        if vacancy['key_skills'] != None:\n",
    "            key_skills = vacancy['key_skills']\n",
    "            if key_skills:\n",
    "                for skill in key_skills:\n",
    "                   key.append(skill['name'])\n",
    "            else:\n",
    "                key.append('нет')\n",
    "        key = ', '.join(key)\n",
    "        if vacancy['description'] != None:\n",
    "            description = vacancy['description']   \n",
    "        dict_ = {'company': vacancy['employer']['name'], 'name': vacancy['name'],\n",
    "                 'description': description, 'key_skills': key}\n",
    "        df.append(dict_)\n",
    "    df = pd.DataFrame(df)\n",
    "else:\n",
    "    print(f'Не удалось подключиться: {search_result.status_code}')\n",
    "    \n",
    "try:\n",
    "    conn = sqlite3.connect('hw1.db')\n",
    "    cur = conn.cursor()\n",
    "    cur.execute(\"CREATE TABLE API (company text, name text, description text, key_skills text);\")\n",
    "    df.to_sql('API', conn, if_exists='append', index = bool)\n",
    "    conn.commit()\n",
    "    print('Таблица загружена')\n",
    "except sql.Error as error:\n",
    "    print(f\"Не удалось вставить данные в таблицу\")\n",
    "    print(\"Исключение: \", error.__class__, error.args)    \n",
    "    \n",
    "conn.close()\n",
    "print(\"Соединение закрыто\")"
   ]
  },
  {
   "cell_type": "code",
   "execution_count": null,
   "id": "8f947af9",
   "metadata": {},
   "outputs": [],
   "source": [
    "#с асинхронной загрузкой пока не смог разобраться"
   ]
  }
 ],
 "metadata": {
  "kernelspec": {
   "display_name": "Python 3 (ipykernel)",
   "language": "python",
   "name": "python3"
  },
  "language_info": {
   "codemirror_mode": {
    "name": "ipython",
    "version": 3
   },
   "file_extension": ".py",
   "mimetype": "text/x-python",
   "name": "python",
   "nbconvert_exporter": "python",
   "pygments_lexer": "ipython3",
   "version": "3.10.9"
  }
 },
 "nbformat": 4,
 "nbformat_minor": 5
}
